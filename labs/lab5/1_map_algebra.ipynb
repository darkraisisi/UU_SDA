{
 "cells": [
  {
   "cell_type": "markdown",
   "metadata": {},
   "source": [
    "# 1 Map Algebra"
   ]
  },
  {
   "cell_type": "markdown",
   "metadata": {},
   "source": [
    "## 1.1 PCRaser maps, data types and display"
   ]
  },
  {
   "cell_type": "code",
   "execution_count": 2,
   "metadata": {},
   "outputs": [
    {
     "name": "stdout",
     "output_type": "stream",
     "text": [
      "/home/daviddemmers/Documents/uu/SDA/labs/lab5\n"
     ]
    }
   ],
   "source": [
    "from pcraster import *\n",
    "import os\n",
    "print(os.getcwd())"
   ]
  },
  {
   "cell_type": "code",
   "execution_count": 3,
   "metadata": {},
   "outputs": [],
   "source": [
    "waterMap = readmap(\"mapalgebra/water.map\")"
   ]
  },
  {
   "cell_type": "code",
   "execution_count": 4,
   "metadata": {},
   "outputs": [],
   "source": [
    "# aguila(waterMap)"
   ]
  },
  {
   "cell_type": "code",
   "execution_count": 5,
   "metadata": {},
   "outputs": [],
   "source": [
    "isRoadMap = readmap(\"mapalgebra/isroad.map\")\n",
    "# aguila(isRoadMap, waterMap)"
   ]
  },
  {
   "cell_type": "code",
   "execution_count": 6,
   "metadata": {},
   "outputs": [],
   "source": [
    "topoMap = readmap(\"mapalgebra/topo.map\")\n",
    "# aguila(topoMap)"
   ]
  },
  {
   "cell_type": "markdown",
   "metadata": {},
   "source": [
    "buildg.map\n",
    "```\n",
    "0 no buildings\n",
    "1 house\n",
    "2 public building\n",
    "3 tip\n",
    "4 industry\n",
    "5 mine\n",
    "```\n",
    "\n",
    "dump.map\n",
    "```\n",
    "0 no dump\n",
    "1 dump\n",
    "```\n",
    "\n",
    "firestat.map\n",
    "```\n",
    "0 no station\n",
    "1 fire-station\n",
    "```\n",
    "\n",
    "isroad.map\n",
    "```\n",
    "0 no road\n",
    "1 road\n",
    "```\n",
    "\n",
    "iswater.map\n",
    "```\n",
    "0 no water\n",
    "1 water\n",
    "```\n",
    "\n",
    "logging.map\n",
    "```\n",
    "0 no felling\n",
    "1 felling\n",
    "```\n",
    "\n",
    "roads.map\n",
    "```\n",
    "0 no roads\n",
    "1 dirt road\n",
    "2 metalled road\n",
    "```\n",
    "\n",
    "soils.map\n",
    "```\n",
    "1 stream\n",
    "2 swamp\n",
    "3 lake\n",
    "4 clay\n",
    "5 silty clay\n",
    "6 peat\n",
    "7 sandy clay\n",
    "8 gravel\n",
    "9 sand\n",
    "10 boulder clay\n",
    "```\n",
    "\n",
    "trees.map\n",
    "```\n",
    "0 open\n",
    "1 pine\n",
    "2 deciduous\n",
    "3 mixed woods\n",
    "```\n",
    "\n",
    "water.map\n",
    "```\n",
    "0 dry land\n",
    "1 streams\n",
    "2 swamp\n",
    "3 lakes\n",
    "```\n",
    "\n",
    "wells.map\n",
    "```\n",
    "0 no well\n",
    "1 well\n",
    "```"
   ]
  },
  {
   "cell_type": "markdown",
   "metadata": {},
   "source": [
    "### Question 1.1.3"
   ]
  },
  {
   "cell_type": "code",
   "execution_count": 7,
   "metadata": {},
   "outputs": [
    {
     "data": {
      "text/plain": [
       "<VALUESCALE.Nominal: 2>"
      ]
     },
     "execution_count": 7,
     "metadata": {},
     "output_type": "execute_result"
    }
   ],
   "source": [
    "buildingMap = readmap(\"mapalgebra/buildg.map\")\n",
    "buildingMap.dataType()"
   ]
  },
  {
   "cell_type": "code",
   "execution_count": 8,
   "metadata": {},
   "outputs": [],
   "source": [
    "# aguila(buildingMap)"
   ]
  },
  {
   "cell_type": "markdown",
   "metadata": {},
   "source": [
    "## 1.2 Point operations"
   ]
  },
  {
   "cell_type": "code",
   "execution_count": 9,
   "metadata": {},
   "outputs": [],
   "source": [
    "exec(open(\"mapalgebra/openmaps.py\").read())"
   ]
  },
  {
   "cell_type": "code",
   "execution_count": 10,
   "metadata": {},
   "outputs": [],
   "source": [
    "resultMap = slope(topoMap) * (1 + phreaticMap)"
   ]
  },
  {
   "cell_type": "code",
   "execution_count": 11,
   "metadata": {},
   "outputs": [],
   "source": [
    "unsatMap = topoMap - phreaticMap"
   ]
  },
  {
   "cell_type": "markdown",
   "metadata": {},
   "source": [
    "### Question 1.2.2"
   ]
  },
  {
   "cell_type": "code",
   "execution_count": 12,
   "metadata": {},
   "outputs": [
    {
     "name": "stdout",
     "output_type": "stream",
     "text": [
      "\n",
      "RuntimeError: pcrmul: left operand of operator '*': type is nominal, legal type is scalar\n",
      "\n"
     ]
    }
   ],
   "source": [
    "# infilMap = soilsMap * unsatMap\n",
    "print(\"\"\"\n",
    "RuntimeError: pcrmul: left operand of operator '*': type is nominal, legal type is scalar\n",
    "\"\"\")"
   ]
  },
  {
   "cell_type": "markdown",
   "metadata": {},
   "source": [
    "### 1.2.3"
   ]
  },
  {
   "cell_type": "code",
   "execution_count": 13,
   "metadata": {},
   "outputs": [],
   "source": [
    "isbridgeMap = isroadMap & iswaterMap"
   ]
  },
  {
   "cell_type": "code",
   "execution_count": 14,
   "metadata": {},
   "outputs": [],
   "source": [
    "# aguila(isroadMap, iswaterMap, isbridgeMap)"
   ]
  },
  {
   "cell_type": "code",
   "execution_count": 15,
   "metadata": {},
   "outputs": [],
   "source": [
    "# x1Map = isroadMap & iswaterMap -> A\n",
    "# x2Map = isroadMap | iswaterMap -> C\n",
    "# x3Map = isroadMap ^ iswaterMap -> D\n",
    "# x4Map = isroadMap & ~ iswaterMap -> B"
   ]
  },
  {
   "cell_type": "markdown",
   "metadata": {},
   "source": [
    "### Question 1.2.4 "
   ]
  },
  {
   "cell_type": "code",
   "execution_count": 16,
   "metadata": {},
   "outputs": [],
   "source": [
    "highMap = topoMap > 40\n",
    "# aguila(topoMap, highMap)"
   ]
  },
  {
   "cell_type": "code",
   "execution_count": 17,
   "metadata": {},
   "outputs": [],
   "source": [
    "isMineMap = buildgMap == 5\n",
    "# aguila(isMineMap)"
   ]
  },
  {
   "cell_type": "markdown",
   "metadata": {},
   "source": [
    "### Question 1.2.5"
   ]
  },
  {
   "cell_type": "code",
   "execution_count": 18,
   "metadata": {},
   "outputs": [],
   "source": [
    "topatminMap = ifthen(isMineMap, topoMap)"
   ]
  },
  {
   "cell_type": "code",
   "execution_count": 19,
   "metadata": {},
   "outputs": [
    {
     "data": {
      "text/plain": [
       "<pcraster._pcraster.Field at 0x7f02efa8bcb0>"
      ]
     },
     "execution_count": 19,
     "metadata": {},
     "output_type": "execute_result"
    }
   ],
   "source": [
    "toponewMap = ifthenelse(isMineMap, topoMap-20 , topoMap)\n",
    "aguila(toponewMap)\n",
    "lowestPointOnTopoNew = mapminimum(toponewMap)\n",
    "lowestPointOnTopoNew"
   ]
  },
  {
   "cell_type": "markdown",
   "metadata": {},
   "source": [
    "## 1.3"
   ]
  },
  {
   "cell_type": "markdown",
   "metadata": {},
   "source": [
    "## Question 1.3.2"
   ]
  },
  {
   "cell_type": "code",
   "execution_count": 20,
   "metadata": {},
   "outputs": [],
   "source": [
    "soiltopoMap = areaaverage(topoMap, soilsMap)\n",
    "# aguila(soiltopoMap, topoMap, soilsMap)"
   ]
  },
  {
   "cell_type": "code",
   "execution_count": 21,
   "metadata": {},
   "outputs": [],
   "source": [
    "soilareaMap = areaarea(soilsMap)\n",
    "# aguila(soilareaMap)"
   ]
  },
  {
   "cell_type": "markdown",
   "metadata": {},
   "source": [
    "### 1.3.3"
   ]
  },
  {
   "cell_type": "code",
   "execution_count": 22,
   "metadata": {},
   "outputs": [],
   "source": [
    "# aguila(treesMap)"
   ]
  },
  {
   "cell_type": "markdown",
   "metadata": {},
   "source": [
    "\n",
    "treesMap\n",
    "```\n",
    "    open, code 0\n",
    "    pine, code 1\n",
    "    deciduous, code 2\n",
    "    mixed wood, code 3\n",
    "```"
   ]
  },
  {
   "cell_type": "code",
   "execution_count": 23,
   "metadata": {},
   "outputs": [],
   "source": [
    "pineMap = treesMap == 1\n",
    "pineclumMap = clump(pineMap)"
   ]
  },
  {
   "cell_type": "code",
   "execution_count": 24,
   "metadata": {},
   "outputs": [],
   "source": [
    "pineareaMap = areaarea(pineclumMap)\n",
    "# aguila(pineareaMap, pineMap)"
   ]
  },
  {
   "cell_type": "markdown",
   "metadata": {},
   "source": [
    "### Question"
   ]
  },
  {
   "cell_type": "code",
   "execution_count": 25,
   "metadata": {},
   "outputs": [],
   "source": [
    "pineare2Map = ifthenelse(pineMap, pineareaMap, 0)\n",
    "# aguila(pineare2Map)"
   ]
  },
  {
   "cell_type": "markdown",
   "metadata": {},
   "source": [
    "### Question"
   ]
  },
  {
   "cell_type": "code",
   "execution_count": 26,
   "metadata": {},
   "outputs": [],
   "source": [
    "# 1 hectare = 4 cells\n",
    "# 4 hectare = 16 cells\n",
    "# aguila(pineclumMap)\n",
    "\n",
    "# aguila(pineare2Map > 400_00)"
   ]
  },
  {
   "cell_type": "markdown",
   "metadata": {},
   "source": [
    "## 1.4"
   ]
  },
  {
   "cell_type": "code",
   "execution_count": 27,
   "metadata": {},
   "outputs": [],
   "source": [
    "unsatMap = topoMap - phreaticMap"
   ]
  },
  {
   "cell_type": "markdown",
   "metadata": {},
   "source": [
    "# Question 1.4.2"
   ]
  },
  {
   "cell_type": "code",
   "execution_count": 28,
   "metadata": {},
   "outputs": [],
   "source": [
    "unsat150Map  = windowaverage(unsatMap,150)\n",
    "unsat250Map  = windowaverage(unsatMap,250)"
   ]
  },
  {
   "cell_type": "code",
   "execution_count": 29,
   "metadata": {},
   "outputs": [],
   "source": [
    "soidi150Map = windowdiversity(soilsMap,150)\n",
    "soidi500Map = windowdiversity(soilsMap,500)\n",
    "# aguila(soidi150Map, soidi500Map)"
   ]
  },
  {
   "cell_type": "markdown",
   "metadata": {},
   "source": [
    "### Question 1.4.3"
   ]
  },
  {
   "cell_type": "code",
   "execution_count": 30,
   "metadata": {},
   "outputs": [],
   "source": [
    "welldistMap = spread(wellsMap,0,1)\n",
    "# aguila(wellsMap, welldistMap)"
   ]
  },
  {
   "cell_type": "code",
   "execution_count": 31,
   "metadata": {},
   "outputs": [],
   "source": [
    "wellprotMap = welldistMap < 200\n",
    "# aguila(wellprotMap)"
   ]
  },
  {
   "cell_type": "markdown",
   "metadata": {},
   "source": [
    "### 1.4.4"
   ]
  },
  {
   "cell_type": "code",
   "execution_count": 32,
   "metadata": {},
   "outputs": [],
   "source": [
    "welltimeMap = spread(wellsMap,0,3)\n",
    "# aguila(welltimeMap)"
   ]
  },
  {
   "cell_type": "markdown",
   "metadata": {},
   "source": [
    "## 1.5"
   ]
  },
  {
   "cell_type": "markdown",
   "metadata": {},
   "source": [
    "### 1.5.2"
   ]
  },
  {
   "cell_type": "code",
   "execution_count": 33,
   "metadata": {},
   "outputs": [],
   "source": [
    "slopeMap = slope(topoMap)\n",
    "# aguila(slopeMap, topoMap)"
   ]
  },
  {
   "cell_type": "code",
   "execution_count": 34,
   "metadata": {},
   "outputs": [],
   "source": [
    "slopedegMap = atan(slopeMap)\n",
    "slope2Map = slope(slopeMap)\n",
    "aspectMap = aspect(topoMap)\n",
    "# aguila(slopedegMap, slope2Map, aspectMap)"
   ]
  },
  {
   "cell_type": "code",
   "execution_count": 35,
   "metadata": {},
   "outputs": [],
   "source": [
    "ldd0Map = lddcreate(topoMap,0,0,0,0)\n",
    "aguila(topoMap, ldd0Map)"
   ]
  },
  {
   "cell_type": "code",
   "execution_count": 36,
   "metadata": {},
   "outputs": [],
   "source": [
    "pit0Map = pit(ldd0Map)\n",
    "aguila(topoMap, pit0Map)"
   ]
  },
  {
   "cell_type": "code",
   "execution_count": 37,
   "metadata": {},
   "outputs": [],
   "source": [
    "pathzeroMap = path(ldd0Map,pointsMap)\n",
    "aguila(ldd0Map, pointsMap, pit0Map, pathzeroMap)"
   ]
  },
  {
   "cell_type": "markdown",
   "metadata": {},
   "source": [
    "### Question 1.5.3"
   ]
  },
  {
   "cell_type": "code",
   "execution_count": 38,
   "metadata": {},
   "outputs": [],
   "source": [
    "topomodiMap = lddcreatedem(topoMap,1e31,1e31,1e31,1e31)\n",
    "coredeptMap = topomodiMap - topoMap\n",
    "aguila(coredeptMap)"
   ]
  },
  {
   "cell_type": "code",
   "execution_count": 39,
   "metadata": {},
   "outputs": [],
   "source": [
    "ldd2Map = lddcreate(topoMap,2,1e31,1e31,1e31)\n",
    "pit2Map = pit(ldd2Map)\n",
    "lddMap = lddcreate(topoMap,10,1e31,1e31,1e31)\n",
    "pathMap = path(lddMap, pointsMap)\n",
    "aguila(pathMap)"
   ]
  },
  {
   "cell_type": "markdown",
   "metadata": {},
   "source": [
    "### 1.5.4"
   ]
  },
  {
   "cell_type": "code",
   "execution_count": 40,
   "metadata": {},
   "outputs": [],
   "source": [
    "outpoMap = pit(lddMap)\n",
    "catchmsMap = catchment(lddMap,outpoMap)\n",
    "dischMap = accuflux(lddMap,rainstorMap)\n",
    "aguila(dischMap, rainstorMap, lddMap)"
   ]
  },
  {
   "cell_type": "code",
   "execution_count": null,
   "metadata": {},
   "outputs": [],
   "source": []
  }
 ],
 "metadata": {
  "kernelspec": {
   "display_name": "infomsdasm",
   "language": "python",
   "name": "python3"
  },
  "language_info": {
   "codemirror_mode": {
    "name": "ipython",
    "version": 3
   },
   "file_extension": ".py",
   "mimetype": "text/x-python",
   "name": "python",
   "nbconvert_exporter": "python",
   "pygments_lexer": "ipython3",
   "version": "3.11.6"
  }
 },
 "nbformat": 4,
 "nbformat_minor": 2
}
